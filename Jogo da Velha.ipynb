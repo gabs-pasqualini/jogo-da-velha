{
  "nbformat": 4,
  "nbformat_minor": 0,
  "metadata": {
    "colab": {
      "provenance": [],
      "include_colab_link": true
    },
    "kernelspec": {
      "name": "python3",
      "display_name": "Python 3"
    },
    "language_info": {
      "name": "python"
    }
  },
  "cells": [
    {
      "cell_type": "markdown",
      "metadata": {
        "id": "view-in-github",
        "colab_type": "text"
      },
      "source": [
        "<a href=\"https://colab.research.google.com/github/gabs-pasqualini/jogo-da-velha/blob/main/Jogo%20da%20Velha.ipynb\" target=\"_parent\"><img src=\"https://colab.research.google.com/assets/colab-badge.svg\" alt=\"Open In Colab\"/></a>"
      ]
    },
    {
      "cell_type": "code",
      "source": [
        "from IPython.display import clear_output\n"
      ],
      "metadata": {
        "id": "bUBMZHtwwTe4"
      },
      "execution_count": null,
      "outputs": []
    },
    {
      "cell_type": "code",
      "execution_count": null,
      "metadata": {
        "id": "ey718EgXqkti"
      },
      "outputs": [],
      "source": [
        "#Iniciando uma matriz 3 x 3 a qual simula o ambiente de jogo\n",
        "\n",
        "def iniciar_matriz():\n",
        "  return [[\"\", \"\", \"\"],\n",
        "          [\"\", \"\", \"\"],\n",
        "          [\"\", \"\", \"\"]]"
      ]
    },
    {
      "cell_type": "code",
      "source": [
        "def exibir_matriz(matriz, matriz_guia):\n",
        "  clear_output()\n",
        "  print(\"\\n\\n\")\n",
        "  print (f\"{matriz[0][0]}\\t|\\t{matriz[0][1]}\\t|\\t{matriz[0][2]}\\t\\t\\t\\t{matriz_guia[0][0]}\\t|\\t{matriz_guia[0][1]}\\t|\\t{matriz_guia[0][2]}\\n\\n\")\n",
        "  print (f\"-\\t|\\t-\\t|\\t-\\t\\t\\t\\t-\\t|\\t-\\t|\\t-\\n\\n\")\n",
        "  print (f\"{matriz[1][0]}\\t|\\t{matriz[1][1]}\\t|\\t{matriz[1][2]}\\t\\t\\t\\t{matriz_guia[1][0]}\\t|\\t{matriz_guia[1][1]}\\t|\\t{matriz_guia[1][2]}\\n\\n\")\n",
        "  print (f\"-\\t|\\t-\\t|\\t-\\t\\t\\t\\t-\\t|\\t-\\t|\\t-\\n\\n\")\n",
        "  print (f\"{matriz[2][0]}\\t|\\t{matriz[2][1]}\\t|\\t{matriz[2][2]}\\t\\t\\t\\t{matriz_guia[2][0]}\\t|\\t{matriz_guia[2][1]}\\t|\\t{matriz_guia[2][2]}\\n\\n\")\n",
        "  print(\"\\n\\n\")"
      ],
      "metadata": {
        "id": "4e89P9SQrUpk"
      },
      "execution_count": null,
      "outputs": []
    },
    {
      "cell_type": "code",
      "source": [
        "def adicionar_na_matriz(matriz, x, y, caracter):\n",
        "  matriz[x][y] = caracter\n",
        "  return matriz\n"
      ],
      "metadata": {
        "id": "-n5YCbPBswB5"
      },
      "execution_count": null,
      "outputs": []
    },
    {
      "cell_type": "code",
      "source": [
        "def detectar_vencedor(matriz, orientacao=\"linha\", checked=False):\n",
        "\n",
        "  #Detectando se ganhou na diagonal 1\n",
        "\n",
        "  if matriz[0][0] == matriz[1][1] == matriz[2][2] and matriz[0][0] != \"\" and matriz[1][1] != \"\" and matriz[2][2] != \"\":\n",
        "      return matriz[0][0], \"\", \"diagonal\"\n",
        "\n",
        "\n",
        "  #Detectando se ganhou na diagonal 1\n",
        "  #if matriz[0][2] == matriz[1][1] and matriz[1][1] == matriz[2][0] and matriz[0][2] == matriz[2][0]:\n",
        "  if matriz[0][2] == matriz[1][1] == matriz[2][0] and matriz[0][2] != \"\" and matriz[1][1] != \"\" and matriz[2][0] != \"\":# == matriz[2][0] and matriz[0][2] == matriz[2][0]:\n",
        "    return matriz[0][2], \"\", \"diagonal\"\n",
        "\n",
        "\n",
        "  #Detectando deu alguma linha\n",
        "  myLinha = []\n",
        "  for index, x in enumerate(matriz):\n",
        "    if x[1] == x[0] and x[2] == x[0]:\n",
        "      if x[0] != \"\":\n",
        "        return x[0], index+1, orientacao\n",
        "\n",
        "\n",
        "  if checked == False:\n",
        "    #Detectando deu alguma coluna\n",
        "    #Para econimizar código, a matriz foi transposta e a função chama ela mesma para verificar por linha.\n",
        "    #Porém para saber que foi por coluna, enviamos a informação que a verificação é de coluna para dizer depois quem ganhou.\n",
        "    # O list comprehantion abaixo foi uma solução do ChatGPT\n",
        "    #É a única solução dentro desse projeto buscada em uma IA\n",
        "    matriz_transposta = [[matriz[j][i] for j in range(len(matriz))] for i in range(len(matriz[0]))]\n",
        "    return detectar_vencedor(matriz_transposta, orientacao=\"coluna\", checked=True)\n",
        "\n",
        "\n",
        "\n"
      ],
      "metadata": {
        "id": "05xf2Uf2t6uj"
      },
      "execution_count": null,
      "outputs": []
    },
    {
      "cell_type": "code",
      "source": [
        "#Função apenas para saber onde o usuário pode jogar\n",
        "def matriz_guia_usuário(matriz):\n",
        "  matriz_guia = iniciar_matriz()\n",
        "  count = 1\n",
        "  for indexX, x in enumerate(matriz_guia):\n",
        "    for indexY, y in enumerate(x):\n",
        "      adicionar_na_matriz(matriz_guia, indexX, indexY, count)\n",
        "      count += 1\n",
        "  return matriz_guia\n",
        "\n",
        "\n"
      ],
      "metadata": {
        "id": "rIvUBzTa8SGD"
      },
      "execution_count": null,
      "outputs": []
    },
    {
      "cell_type": "code",
      "source": [
        "#Aqui inserimos um valor e retornamos o eixo x e y da matriz\n",
        "def IndexDaMatriz(valor, matriz_guia):\n",
        "  count = 1\n",
        "  for indexX, x in enumerate(matriz_guia):\n",
        "    for indexY, y in enumerate(x):\n",
        "      if valor == count:\n",
        "        return indexX, indexY\n",
        "      count += 1"
      ],
      "metadata": {
        "id": "Q0ZxYnisbB62"
      },
      "execution_count": null,
      "outputs": []
    },
    {
      "cell_type": "code",
      "source": [
        "#Interagindo com o usuário\n",
        "matriz = iniciar_matriz()\n",
        "matriz_guia = matriz_guia_usuário(matriz)\n",
        "exibir_matriz(matriz, matriz_guia)\n",
        "\n",
        "resultado = None\n",
        "play = 2\n",
        "\n",
        "while resultado == None or play == 11:\n",
        "\n",
        "\n",
        "  if play % 2 == 0:\n",
        "\n",
        "    p = \"X\"\n",
        "    indexplay = input(f\"JOGADOR {p}: Escolha o local da sua jogada.\\t\")\n",
        "  else:\n",
        "    p = \"0\"\n",
        "    indexplay = input(f\"JOGADOR {p}: escolha o local da sua jogada.\\t\")\n",
        "\n",
        "  play += 1\n",
        "\n",
        "\n",
        "  x, y = IndexDaMatriz(int(indexplay), m)\n",
        "\n",
        "  adicionar_na_matriz(matriz, x, y, p)\n",
        "  m = matriz_guia_usuário(matriz)\n",
        "\n",
        "  exibir_matriz(matriz, matriz_guia)\n",
        "\n",
        "  #m = matriz_guia_usuário(matriz)\n",
        "\n",
        "  resultado = detectar_vencedor(matriz)\n",
        "\n",
        "\n",
        "  #Exibindo o resultado\n",
        "  if play == 11:\n",
        "    print(\"O JOGO TERMINOU EMPATADO!!!\")\n",
        "    exit()\n",
        "  if resultado != None:\n",
        "    print(f\"O JOGADOR '{resultado[0]}' venceu a partida pela {resultado[2]}\")\n",
        "    exit()\n"
      ],
      "metadata": {
        "colab": {
          "base_uri": "https://localhost:8080/"
        },
        "id": "b-NtqAgM753A",
        "outputId": "7887970d-e6d4-4b60-caf8-3fe9f667ea09"
      },
      "execution_count": null,
      "outputs": [
        {
          "output_type": "stream",
          "name": "stdout",
          "text": [
            "\n",
            "\n",
            "\n",
            "0\t|\tX\t|\tX\t\t\t\t1\t|\t2\t|\t3\n",
            "\n",
            "\n",
            "-\t|\t-\t|\t-\t\t\t\t-\t|\t-\t|\t-\n",
            "\n",
            "\n",
            "0\t|\tX\t|\t\t\t\t\t4\t|\t5\t|\t6\n",
            "\n",
            "\n",
            "-\t|\t-\t|\t-\t\t\t\t-\t|\t-\t|\t-\n",
            "\n",
            "\n",
            "0\t|\t\t|\t\t\t\t\t7\t|\t8\t|\t9\n",
            "\n",
            "\n",
            "\n",
            "\n",
            "\n",
            "O JOGADOR'0' venceu a partida pela coluna\n"
          ]
        }
      ]
    }
  ]
}